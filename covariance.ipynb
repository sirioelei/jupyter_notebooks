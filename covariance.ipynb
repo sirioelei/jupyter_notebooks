{
 "cells": [
  {
   "cell_type": "markdown",
   "id": "6931e613-7f7d-423b-8274-9cede2d77d36",
   "metadata": {},
   "source": [
    "## Macierz Kowariancji\n",
    "\n",
    "Macierz kowariancji jest macierzą kwadratową używaną do opisania zależności między zmiennymi losowymi w wektorze losowym \\( \\mathbf{X} \\). Składa się z wariancji każdej zmiennej na głównej przekątnej oraz kowariancji między parami zmiennych na pozostałych pozycjach.\n",
    "\n",
    "Jeśli $ \\mathbf{X} $ jest wektorem losowym o wymiarze $ n \\times 1 $, to macierz kowariancji $ \\Sigma $ jest macierzą $ n \\times n $, gdzie elementy $ \\Sigma_{ij} $ są definiowane jako kowariancja między $ X_i $ i $ X_j $.\n",
    "\n",
    "Poniżej znajduje się ogólny wzór macierzy kowariancji:\n",
    "\n",
    "$$\n",
    "\\Sigma = \n",
    "\\begin{bmatrix}\n",
    "    \\text{Var}(X_1) & \\text{Cov}(X_1, X_2) & \\cdots & \\text{Cov}(X_1, X_n) \\\\\n",
    "    \\text{Cov}(X_2, X_1) & \\text{Var}(X_2) & \\cdots & \\text{Cov}(X_2, X_n) \\\\\n",
    "    \\vdots & \\vdots & \\ddots & \\vdots \\\\\n",
    "    \\text{Cov}(X_n, X_1) & \\text{Cov}(X_n, X_2) & \\cdots & \\text{Var}(X_n)\n",
    "\\end{bmatrix}\n",
    "$$\n",
    "\n",
    "Gdzie:\n",
    "- $ \\text{Var}(X_i) $ oznacza wariancję zmiennej losowej $ X_i $.\n",
    "- $ \\text{Cov}(X_i, X_j) $ oznacza kowariancję między zmiennymi losowymi $ X_i $ i $ X_j $.\n",
    "\n",
    "Macierz kowariancji $ \\Sigma $ jest symetryczna względem przekątnej głównej, co oznacza, że $ \\Sigma_{ij} = \\Sigma_{ji} $ dla każdej pary $ (i, j) $.\n",
    "\n",
    "Przykładowa macierz kowariancji dla dwuwymiarowego wektora losowego $ \\mathbf{X} = [X_1, X_2] $ może wyglądać tak:\n",
    "\n",
    "$$\n",
    "\\Sigma = \n",
    "\\begin{bmatrix}\n",
    "    \\text{Var}(X_1) & \\text{Cov}(X_1, X_2) \\\\\n",
    "    \\text{Cov}(X_2, X_1) & \\text{Var}(X_2)\n",
    "\\end{bmatrix}\n",
    "$$\n",
    "\n",
    "Wartości na głównej przekątnej to wariancje poszczególnych zmiennych, a pozostałe elementy to kowariancje między zmiennymi. Na przykład, $ \\Sigma_{11} $ to wariancja $ X_1 $, a $ \\Sigma_{12} $ (równa $ \\Sigma_{21} $) to kowariancja między $ X_1 $ i $ X_2 $."
   ]
  },
  {
   "cell_type": "markdown",
   "id": "21ae6420-1c37-4cd7-b93b-4a8f6bac0f05",
   "metadata": {},
   "source": [
    "## Obliczanie Kowariancji\n",
    "\n",
    "Kowariancja między dwiema zmiennymi losowymi $ X $ i $ Y $ mierzy stopień, w jakim te dwie zmienne zmieniają się razem. Aby obliczyć kowariancję między nimi, możemy użyć następującego wzoru:\n",
    "\n",
    "$$\n",
    "\\text{Cov}(X, Y) = E[(X - E[X])(Y - E[Y])]\n",
    "$$\n",
    "\n",
    "gdzie $ E[X] $ i $ E[Y] $ oznaczają wartości oczekiwane (średnie) zmiennych losowych $ X $ i $ Y $ odpowiednio.\n",
    "\n",
    "W praktyce, kowariancję można również obliczyć jako średnią iloczynów odchyleń od średnich wartości dla każdej pary obserwacji.\n",
    "\n",
    "Zakładając, że wartości $ X $ i $ Y $ są zdefiniowane na tej samej przestrzeni probabilistycznej i są tego samego typu, możemy obliczyć ich kowariancję. Oznacza to, że obie zmienne losowe muszą mieć zdefiniowane rozkłady prawdopodobieństwa na tej samej przestrzeni probabilistycznej."
   ]
  },
  {
   "cell_type": "code",
   "execution_count": null,
   "id": "9184e276-6d06-473e-9ec9-e44db5c7c405",
   "metadata": {},
   "outputs": [],
   "source": []
  }
 ],
 "metadata": {
  "kernelspec": {
   "display_name": "Python 3 (ipykernel)",
   "language": "python",
   "name": "python3"
  },
  "language_info": {
   "codemirror_mode": {
    "name": "ipython",
    "version": 3
   },
   "file_extension": ".py",
   "mimetype": "text/x-python",
   "name": "python",
   "nbconvert_exporter": "python",
   "pygments_lexer": "ipython3",
   "version": "3.11.8"
  }
 },
 "nbformat": 4,
 "nbformat_minor": 5
}
